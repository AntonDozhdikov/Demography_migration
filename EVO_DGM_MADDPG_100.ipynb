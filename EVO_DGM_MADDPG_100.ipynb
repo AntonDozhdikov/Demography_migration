{
  "cells": [
    {
      "cell_type": "markdown",
      "metadata": {
        "id": "view-in-github",
        "colab_type": "text"
      },
      "source": [
        "<a href=\"https://colab.research.google.com/github/AntonDozhdikov/Demography_migration/blob/main/EVO_DGM_MADDPG_100.ipynb\" target=\"_parent\"><img src=\"https://colab.research.google.com/assets/colab-badge.svg\" alt=\"Open In Colab\"/></a>"
      ]
    },
    {
      "cell_type": "code",
      "source": [
        "!pip install torch matplotlib seaborn pandas numpy tqdm\n",
        "exec(open('main_complete.py').read())"
      ],
      "metadata": {
        "id": "FopkgSnO4IQr",
        "colab": {
          "base_uri": "https://localhost:8080/"
        },
        "outputId": "f68a5935-d6ee-4178-ba5e-ba0859a627fd"
      },
      "execution_count": 1,
      "outputs": [
        {
          "output_type": "stream",
          "name": "stdout",
          "text": [
            "Requirement already satisfied: torch in /usr/local/lib/python3.12/dist-packages (2.8.0+cu126)\n",
            "Requirement already satisfied: matplotlib in /usr/local/lib/python3.12/dist-packages (3.10.0)\n",
            "Requirement already satisfied: seaborn in /usr/local/lib/python3.12/dist-packages (0.13.2)\n",
            "Requirement already satisfied: pandas in /usr/local/lib/python3.12/dist-packages (2.2.2)\n",
            "Requirement already satisfied: numpy in /usr/local/lib/python3.12/dist-packages (2.0.2)\n",
            "Requirement already satisfied: tqdm in /usr/local/lib/python3.12/dist-packages (4.67.1)\n",
            "Requirement already satisfied: filelock in /usr/local/lib/python3.12/dist-packages (from torch) (3.19.1)\n",
            "Requirement already satisfied: typing-extensions>=4.10.0 in /usr/local/lib/python3.12/dist-packages (from torch) (4.15.0)\n",
            "Requirement already satisfied: setuptools in /usr/local/lib/python3.12/dist-packages (from torch) (75.2.0)\n",
            "Requirement already satisfied: sympy>=1.13.3 in /usr/local/lib/python3.12/dist-packages (from torch) (1.13.3)\n",
            "Requirement already satisfied: networkx in /usr/local/lib/python3.12/dist-packages (from torch) (3.5)\n",
            "Requirement already satisfied: jinja2 in /usr/local/lib/python3.12/dist-packages (from torch) (3.1.6)\n",
            "Requirement already satisfied: fsspec in /usr/local/lib/python3.12/dist-packages (from torch) (2025.3.0)\n",
            "Requirement already satisfied: nvidia-cuda-nvrtc-cu12==12.6.77 in /usr/local/lib/python3.12/dist-packages (from torch) (12.6.77)\n",
            "Requirement already satisfied: nvidia-cuda-runtime-cu12==12.6.77 in /usr/local/lib/python3.12/dist-packages (from torch) (12.6.77)\n",
            "Requirement already satisfied: nvidia-cuda-cupti-cu12==12.6.80 in /usr/local/lib/python3.12/dist-packages (from torch) (12.6.80)\n",
            "Requirement already satisfied: nvidia-cudnn-cu12==9.10.2.21 in /usr/local/lib/python3.12/dist-packages (from torch) (9.10.2.21)\n",
            "Requirement already satisfied: nvidia-cublas-cu12==12.6.4.1 in /usr/local/lib/python3.12/dist-packages (from torch) (12.6.4.1)\n",
            "Requirement already satisfied: nvidia-cufft-cu12==11.3.0.4 in /usr/local/lib/python3.12/dist-packages (from torch) (11.3.0.4)\n",
            "Requirement already satisfied: nvidia-curand-cu12==10.3.7.77 in /usr/local/lib/python3.12/dist-packages (from torch) (10.3.7.77)\n",
            "Requirement already satisfied: nvidia-cusolver-cu12==11.7.1.2 in /usr/local/lib/python3.12/dist-packages (from torch) (11.7.1.2)\n",
            "Requirement already satisfied: nvidia-cusparse-cu12==12.5.4.2 in /usr/local/lib/python3.12/dist-packages (from torch) (12.5.4.2)\n",
            "Requirement already satisfied: nvidia-cusparselt-cu12==0.7.1 in /usr/local/lib/python3.12/dist-packages (from torch) (0.7.1)\n",
            "Requirement already satisfied: nvidia-nccl-cu12==2.27.3 in /usr/local/lib/python3.12/dist-packages (from torch) (2.27.3)\n",
            "Requirement already satisfied: nvidia-nvtx-cu12==12.6.77 in /usr/local/lib/python3.12/dist-packages (from torch) (12.6.77)\n",
            "Requirement already satisfied: nvidia-nvjitlink-cu12==12.6.85 in /usr/local/lib/python3.12/dist-packages (from torch) (12.6.85)\n",
            "Requirement already satisfied: nvidia-cufile-cu12==1.11.1.6 in /usr/local/lib/python3.12/dist-packages (from torch) (1.11.1.6)\n",
            "Requirement already satisfied: triton==3.4.0 in /usr/local/lib/python3.12/dist-packages (from torch) (3.4.0)\n",
            "Requirement already satisfied: contourpy>=1.0.1 in /usr/local/lib/python3.12/dist-packages (from matplotlib) (1.3.3)\n",
            "Requirement already satisfied: cycler>=0.10 in /usr/local/lib/python3.12/dist-packages (from matplotlib) (0.12.1)\n",
            "Requirement already satisfied: fonttools>=4.22.0 in /usr/local/lib/python3.12/dist-packages (from matplotlib) (4.60.0)\n",
            "Requirement already satisfied: kiwisolver>=1.3.1 in /usr/local/lib/python3.12/dist-packages (from matplotlib) (1.4.9)\n",
            "Requirement already satisfied: packaging>=20.0 in /usr/local/lib/python3.12/dist-packages (from matplotlib) (25.0)\n",
            "Requirement already satisfied: pillow>=8 in /usr/local/lib/python3.12/dist-packages (from matplotlib) (11.3.0)\n",
            "Requirement already satisfied: pyparsing>=2.3.1 in /usr/local/lib/python3.12/dist-packages (from matplotlib) (3.2.4)\n",
            "Requirement already satisfied: python-dateutil>=2.7 in /usr/local/lib/python3.12/dist-packages (from matplotlib) (2.9.0.post0)\n",
            "Requirement already satisfied: pytz>=2020.1 in /usr/local/lib/python3.12/dist-packages (from pandas) (2025.2)\n",
            "Requirement already satisfied: tzdata>=2022.7 in /usr/local/lib/python3.12/dist-packages (from pandas) (2025.2)\n",
            "Requirement already satisfied: six>=1.5 in /usr/local/lib/python3.12/dist-packages (from python-dateutil>=2.7->matplotlib) (1.17.0)\n",
            "Requirement already satisfied: mpmath<1.4,>=1.1.0 in /usr/local/lib/python3.12/dist-packages (from sympy>=1.13.3->torch) (1.3.0)\n",
            "Requirement already satisfied: MarkupSafe>=2.0 in /usr/local/lib/python3.12/dist-packages (from jinja2->torch) (3.0.2)\n",
            "🎯 MADDPG ЭКСПЕРИМЕНТ - ПОЛНОСТЬЮ РАБОЧАЯ ВЕРСИЯ\n",
            "📝 ЕДИНАЯ ФУНКЦИЯ НАГРАДЫ ДЛЯ ВСЕХ АЛГОРИТМОВ\n",
            "⚖️ РАЗЛИЧИЯ ТОЛЬКО ЧЕРЕЗ АЛГОРИТМИЧЕСКИЕ УЛУЧШЕНИЯ\n",
            "🔧 ГАРАНТИРОВАННО 28 КРИЗИСОВ + ИСПРАВЛЕНЫ ВСЕ ОШИБКИ\n",
            "📁 Структура папок создана\n"
          ]
        },
        {
          "output_type": "stream",
          "name": "stderr",
          "text": [
            "2025-09-27 08:55:22,958 - INFO - Система логирования инициализирована\n",
            "INFO:MADDPG_Experiment:Система логирования инициализирована\n"
          ]
        },
        {
          "output_type": "stream",
          "name": "stdout",
          "text": [
            "✅ Все модули импортированы успешно (полностью рабочие версии)\n",
            "🎯 ЗАПУСК MADDPG ЭКСПЕРИМЕНТА (ПОЛНОСТЬЮ РАБОЧАЯ ВЕРСИЯ)\n",
            "📅 2025-09-27 08:55:22\n",
            "🎲 SEED: 42, 📱 Устройство: cpu\n",
            "📊 Параметры: 100 эпизодов x 120 шагов\n",
            "⚖️ ЕДИНАЯ функция награды и кризисов для всех алгоритмов\n",
            "🔧 ДЕТЕРМИНИРОВАННО ровно 28 уникальных кризисов\n",
            "🛠️ ИСПРАВЛЕНЫ все тензорные операции и размерности сетей\n",
            "================================================================================\n",
            "🏗️ ЭТАП 1: ГЕНЕРАЦИЯ СТАРТОВЫХ ДАННЫХ\n",
            "🏗️ Генерация научно корректного датасета...\n",
            "✅ Датасет сгенерирован (SEED=42)\n",
            "   📊 15 университетов, 15 регионов, 10 программ\n",
            "📊 Экспорт начальных состояний...\n",
            "✅ Начальные состояния экспортированы в results/initial_state/\n",
            "✅ Экспортированы стартовые данные:\n",
            "   📊 15 университетов\n",
            "   🗺️ 15 регионов\n",
            "   📈 Файлы: results/initial_state/\n",
            "\\n🌍 ЭТАП 2: ИНИЦИАЛИЗАЦИЯ ЕДИНОЙ СРЕДЫ\n",
            "💥 ДЕТЕРМИНИРОВАННО сгенерировано 28 уникальных кризисов на 112 шагах\n",
            "✅ УСПЕХ: сгенерировано ровно 28 кризисов как требовалось\n",
            "💥 Менеджер кризисов готов: 28 уникальных кризисов\n",
            "📊 Статистика кризисов:\n",
            "   💥 Уникальных кризисов: 28\n",
            "   🎯 Ожидалось: 28\n",
            "   📅 Затронутых шагов: 112\n",
            "   ⚖️ Валидация: PASSED\n",
            "🏛️ ЕДИНАЯ среда готова. STATE_DIM: 59\n",
            "⚖️ ЕДИНАЯ функция награды для всех алгоритмов\n",
            "✅ Единая среда готова:\n",
            "   💥 28 уникальных кризисов (ДЕТЕРМИНИРОВАННО)\n",
            "   🎯 STATE_DIM: 59\n",
            "   ⚖️ ЕДИНАЯ функция награды для всех\n",
            "\\n🔬 ВАЛИДАЦИЯ КОРРЕКТНОСТИ:\n",
            "✅ Все проверки пройдены успешно\n",
            "   ✅ Единая среда: True\n",
            "   ✅ Единая функция награды: True\n",
            "   ✅ Единый сценарий кризисов: True\n",
            "   ✅ Воспроизводимый SEED: 42\n",
            "   ✅ Детерминированные кризисы: 28 = 28\n",
            "   ✅ Исправленные тензорные операции и размерности сетей\n",
            "\\n🚀 ЭТАП 3: ОБУЧЕНИЕ ТРЕХ АЛГОРИТМОВ\n",
            "\\n============================================================\n",
            "🎯 ОБУЧЕНИЕ: Baseline\n",
            "============================================================\n",
            "🔧 Baseline: Базовая сложность 1.0x\n",
            "🎯 Начало обучения Baseline\n"
          ]
        },
        {
          "output_type": "stream",
          "name": "stderr",
          "text": [
            "Обучение Baseline:   1%|          | 1/100 [00:13<22:15, 13.49s/it]"
          ]
        },
        {
          "output_type": "stream",
          "name": "stdout",
          "text": [
            "Эп. 0: Награда=-1.76 | Средняя=-1.76\n"
          ]
        },
        {
          "output_type": "stream",
          "name": "stderr",
          "text": [
            "Обучение Baseline:  26%|██▌       | 26/100 [07:58<22:57, 18.62s/it]"
          ]
        },
        {
          "output_type": "stream",
          "name": "stdout",
          "text": [
            "Эп.25: Награда=-1.67 | Средняя=-1.66\n"
          ]
        },
        {
          "output_type": "stream",
          "name": "stderr",
          "text": [
            "Обучение Baseline:  51%|█████     | 51/100 [15:58<16:18, 19.96s/it]"
          ]
        },
        {
          "output_type": "stream",
          "name": "stdout",
          "text": [
            "Эп.50: Награда=-1.59 | Средняя=-1.59\n"
          ]
        },
        {
          "output_type": "stream",
          "name": "stderr",
          "text": [
            "Обучение Baseline:  76%|███████▌  | 76/100 [23:59<07:36, 19.01s/it]"
          ]
        },
        {
          "output_type": "stream",
          "name": "stdout",
          "text": [
            "Эп.75: Награда=-1.45 | Средняя=-1.45\n"
          ]
        },
        {
          "output_type": "stream",
          "name": "stderr",
          "text": [
            "Обучение Baseline: 100%|██████████| 100/100 [31:24<00:00, 18.84s/it]\n"
          ]
        },
        {
          "output_type": "stream",
          "name": "stdout",
          "text": [
            "\\n✅ Baseline завершен за 31.4 минут\n",
            "📊 Результаты: Средняя: -1.554, Финальная: -1.295, Макс: -1.295, Стабильность: ±0.123\n",
            "\\n============================================================\n",
            "🎯 ОБУЧЕНИЕ: EVO\n",
            "============================================================\n",
            "🔧 Baseline: Базовая сложность 1.0x\n",
            "🧬 Инициализация популяций...\n",
            "✅ Создано 15 популяций по 8 особей\n",
            "🧬 EVO: Эволюционная сложность 1.15x (+15%)\n",
            "🎯 Начало обучения EVO с эволюцией (+15%)\n"
          ]
        },
        {
          "output_type": "stream",
          "name": "stderr",
          "text": [
            "Обучение EVO:   1%|          | 1/100 [00:13<22:45, 13.79s/it]"
          ]
        },
        {
          "output_type": "stream",
          "name": "stdout",
          "text": [
            "Эп. 0: Награда=-1.34 | Средняя=-1.34 | Эволюций=0\n"
          ]
        },
        {
          "output_type": "stream",
          "name": "stderr",
          "text": [
            "Обучение EVO:   8%|▊         | 8/100 [02:22<28:23, 18.51s/it]"
          ]
        },
        {
          "output_type": "stream",
          "name": "stdout",
          "text": [
            "🧬 ЭВОЛЮЦИЯ на эпизоде 8 (причина: initial_diversification)\n"
          ]
        },
        {
          "output_type": "stream",
          "name": "stderr",
          "text": [
            "Обучение EVO:  16%|█▌        | 16/100 [05:13<27:17, 19.49s/it]"
          ]
        },
        {
          "output_type": "stream",
          "name": "stdout",
          "text": [
            "🧬 ЭВОЛЮЦИЯ на эпизоде 16 (причина: initial_diversification)\n"
          ]
        },
        {
          "output_type": "stream",
          "name": "stderr",
          "text": [
            "Обучение EVO:  26%|██▌       | 26/100 [08:47<24:05, 19.54s/it]"
          ]
        },
        {
          "output_type": "stream",
          "name": "stdout",
          "text": [
            "Эп.25: Награда=-1.22 | Средняя=-1.24 | Эволюций=2\n"
          ]
        },
        {
          "output_type": "stream",
          "name": "stderr",
          "text": [
            "Обучение EVO:  51%|█████     | 51/100 [17:07<16:16, 19.92s/it]"
          ]
        },
        {
          "output_type": "stream",
          "name": "stdout",
          "text": [
            "Эп.50: Награда=-1.22 | Средняя=-1.21 | Эволюций=2\n"
          ]
        },
        {
          "output_type": "stream",
          "name": "stderr",
          "text": [
            "Обучение EVO:  76%|███████▌  | 76/100 [25:08<07:36, 19.04s/it]"
          ]
        },
        {
          "output_type": "stream",
          "name": "stdout",
          "text": [
            "Эп.75: Награда=-1.16 | Средняя=-1.17 | Эволюций=2\n"
          ]
        },
        {
          "output_type": "stream",
          "name": "stderr",
          "text": [
            "Обучение EVO: 100%|██████████| 100/100 [32:50<00:00, 19.71s/it]\n"
          ]
        },
        {
          "output_type": "stream",
          "name": "stdout",
          "text": [
            "\\n✅ EVO завершен за 37.8 минут\n",
            "📊 Результаты: Средняя: -1.215, Финальная: -1.116, Макс: -1.103, Стабильность: ±0.058, Эволюций: 2\n",
            "\\n============================================================\n",
            "🎯 ОБУЧЕНИЕ: EVO_DGM\n",
            "============================================================\n",
            "🔧 Baseline: Базовая сложность 1.0x\n",
            "🧬 Инициализация популяций...\n",
            "✅ Создано 15 популяций по 8 особей\n",
            "🧬 EVO: Эволюционная сложность 1.15x (+15%)\n",
            "🧬 Инициализация популяций...\n",
            "✅ Создано 15 популяций по 8 особей\n",
            "📡 Инициализирована DGM матрица 15x15\n",
            "📡 EVO_DGM: EVO+DGM сложность 1.20x (+20%)\n",
            "🎯 Начало обучения EVO_DGM с эволюцией и DGM (+20%)\n"
          ]
        },
        {
          "output_type": "stream",
          "name": "stderr",
          "text": [
            "Обучение EVO_DGM:   1%|          | 1/100 [00:13<22:48, 13.83s/it]"
          ]
        },
        {
          "output_type": "stream",
          "name": "stdout",
          "text": [
            "Эп. 0: Награда=-1.36 | Средняя=-1.36 | Эволюций=0 | Коммуникаций=120\n"
          ]
        },
        {
          "output_type": "stream",
          "name": "stderr",
          "text": [
            "Обучение EVO_DGM:   8%|▊         | 8/100 [02:30<29:44, 19.39s/it]"
          ]
        },
        {
          "output_type": "stream",
          "name": "stdout",
          "text": [
            "🧬 ЭВОЛЮЦИЯ на эпизоде 8 (причина: initial_diversification)\n"
          ]
        },
        {
          "output_type": "stream",
          "name": "stderr",
          "text": [
            "Обучение EVO_DGM:  16%|█▌        | 16/100 [06:16<30:29, 21.78s/it]"
          ]
        },
        {
          "output_type": "stream",
          "name": "stdout",
          "text": [
            "🧬 ЭВОЛЮЦИЯ на эпизоде 16 (причина: initial_diversification)\n"
          ]
        },
        {
          "output_type": "stream",
          "name": "stderr",
          "text": [
            "Обучение EVO_DGM:  26%|██▌       | 26/100 [10:49<26:22, 21.38s/it]"
          ]
        },
        {
          "output_type": "stream",
          "name": "stdout",
          "text": [
            "Эп.25: Награда=-1.09 | Средняя=-1.10 | Эволюций=2 | Коммуникаций=18480\n"
          ]
        },
        {
          "output_type": "stream",
          "name": "stderr",
          "text": [
            "Обучение EVO_DGM:  42%|████▏     | 42/100 [15:59<18:28, 19.12s/it]"
          ]
        },
        {
          "output_type": "stream",
          "name": "stdout",
          "text": [
            "🧬 ЭВОЛЮЦИЯ на эпизоде 42 (причина: performance_stagnation)\n"
          ]
        },
        {
          "output_type": "stream",
          "name": "stderr",
          "text": [
            "Обучение EVO_DGM:  51%|█████     | 51/100 [20:00<16:44, 20.50s/it]"
          ]
        },
        {
          "output_type": "stream",
          "name": "stdout",
          "text": [
            "Эп.50: Награда=-1.09 | Средняя=-1.09 | Эволюций=3 | Коммуникаций=29160\n"
          ]
        },
        {
          "output_type": "stream",
          "name": "stderr",
          "text": [
            "Обучение EVO_DGM:  76%|███████▌  | 76/100 [28:08<07:49, 19.56s/it]"
          ]
        },
        {
          "output_type": "stream",
          "name": "stdout",
          "text": [
            "Эп.75: Награда=-1.08 | Средняя=-1.07 | Эволюций=3 | Коммуникаций=32160\n"
          ]
        },
        {
          "output_type": "stream",
          "name": "stderr",
          "text": [
            "Обучение EVO_DGM: 100%|██████████| 100/100 [35:47<00:00, 21.47s/it]\n"
          ]
        },
        {
          "output_type": "stream",
          "name": "stdout",
          "text": [
            "\\n✅ EVO_DGM завершен за 42.9 минут\n",
            "📊 Результаты: Средняя: -1.102, Финальная: -1.087, Макс: -1.038, Стабильность: ±0.049, Эволюций: 3, Коммуникаций: 35040\n",
            "\\n💾 ЭТАП 4: ЭКСПОРТ РЕЗУЛЬТАТОВ ОБУЧЕНИЯ\n",
            "💾 Экспорт данных обучения...\n",
            "✅ Данные обучения экспортированы в results/data/\n",
            "📈 Создание графиков обучения...\n",
            "✅ Графики обучения созданы в results/plots/\n",
            "✅ Графики обучения созданы\n",
            "\\n🎯 ЭТАП 5: ФИНАЛЬНОЕ ТЕСТИРОВАНИЕ\n",
            "🎯 ЗАПУСК ФИНАЛЬНОГО ТЕСТИРОВАНИЯ\n",
            "----------------------------------------------------------------------\n",
            "\\n🧪 ТЕСТИРОВАНИЕ: Baseline\n",
            "--------------------------------------------------\n"
          ]
        },
        {
          "output_type": "stream",
          "name": "stderr",
          "text": [
            "Тест Baseline:  99%|█████████▉| 119/120 [00:00<00:00, 157.92it/s]\n"
          ]
        },
        {
          "output_type": "stream",
          "name": "stdout",
          "text": [
            "✅ Baseline - Средняя награда: -1.303, Стабильность: ±0.881\n",
            "\\n🧪 ТЕСТИРОВАНИЕ: EVO\n",
            "--------------------------------------------------\n"
          ]
        },
        {
          "output_type": "stream",
          "name": "stderr",
          "text": [
            "Тест EVO:  99%|█████████▉| 119/120 [00:00<00:00, 161.09it/s]\n"
          ]
        },
        {
          "output_type": "stream",
          "name": "stdout",
          "text": [
            "✅ EVO - Средняя награда: -1.140, Стабильность: ±0.850\n",
            "\\n🧪 ТЕСТИРОВАНИЕ: EVO_DGM\n",
            "--------------------------------------------------\n"
          ]
        },
        {
          "output_type": "stream",
          "name": "stderr",
          "text": [
            "Тест EVO_DGM:  99%|█████████▉| 119/120 [00:00<00:00, 120.68it/s]\n"
          ]
        },
        {
          "output_type": "stream",
          "name": "stdout",
          "text": [
            "✅ EVO_DGM - Средняя награда: -1.054, Стабильность: ±0.873\n",
            "✅ Финальное тестирование завершено:\n",
            "   Baseline: -1.303 ± 0.881\n",
            "   EVO: -1.140 ± 0.850\n",
            "   EVO_DGM: -1.054 ± 0.873\n",
            "\\n💾 ЭТАП 6: ЭКСПОРТ ФИНАЛЬНОГО ТЕСТИРОВАНИЯ\n",
            "💾 Экспорт данных тестирования...\n",
            "✅ Данные тестирования экспортированы в results/final_test/\n",
            "📈 Создание графиков тестирования...\n",
            "✅ Графики тестирования созданы в results/plots/\n",
            "✅ Графики тестирования созданы\n",
            "\\n📊 ЭТАП 7: ДЕТАЛЬНАЯ АНАЛИТИКА\n",
            "📊 Создание комплексного анализа...\n",
            "✅ Комплексный анализ создан в results/data/comprehensive_analysis.csv\n",
            "🔬 Валидация научной корректности...\n",
            "✅ Валидация научной корректности: ПРОЙДЕНА\n",
            "📋 Генерация итогового научного отчета...\n",
            "✅ Итоговый научный отчет сохранен в results/SCIENTIFIC_EXPERIMENT_REPORT.txt\n",
            "\n",
            "📋 КРАТКАЯ СВОДКА:\n",
            "SEED эксперимента: 42\n",
            "\n",
            "ПАРАМЕТРЫ ЭКСПЕРИМЕНТА:\n",
            "  • Университетов: 15\n",
            "  • Регионов: 15\n",
            "  • Эпизодов обучения: 100\n",
            "  • Шагов тестирования: 120\n",
            "  • Размерность состояния: 59\n",
            "  • Размерность действия: 5\n",
            "\n",
            "НАУЧНАЯ КОРРЕКТНОСТЬ:\n",
            "\\n🎯 MADDPG ЭКСПЕРИМЕНТ УСПЕШНО ЗАВЕРШЕН!\n",
            "================================================================================\n",
            "📊 Алгоритмов обучено: 3\n",
            "🎯 Эпизодов обучения: 300\n",
            "⏱️ Время обучения: 112.1 минут\n",
            "💥 Уникальных кризисов: 28 (ДЕТЕРМИНИРОВАННО)\n",
            "📈 Шагов тестирования: 120\n",
            "\\n📁 СОЗДАННЫЕ ФАЙЛЫ:\n",
            "   📊 results/data/ - данные обучения и тестирования\n",
            "   📊 results/final_test/ - данные тестирования\n",
            "   📊 results/initial_state/ - стартовые данные\n",
            "   📈 results/plots/ - графики\n",
            "   🤖 results/models/ - модели\n",
            "   📋 results/logs/ - логи\n",
            "   📋 results/SCIENTIFIC_EXPERIMENT_REPORT.txt - итоговый отчет\n",
            "\\n🏆 РЕЗУЛЬТАТЫ ОБУЧЕНИЯ (ЕДИНАЯ НАГРАДА):\n",
            "  Baseline    : -1.554 средняя, -1.295 финальная, ±0.123 стабильность, +0.466 прогресс, 1.00x сложность\n",
            "  EVO         : -1.215 средняя, -1.116 финальная, ±0.058 стабильность, +0.220 прогресс, 1.15x сложность\n",
            "  EVO_DGM     : -1.102 средняя, -1.087 финальная, ±0.049 стабильность, +0.268 прогресс, 1.20x сложность\n",
            "\\n🎯 РЕЗУЛЬТАТЫ ТЕСТИРОВАНИЯ (ЕДИНАЯ СРЕДА):\n",
            "  Baseline    : -1.303 средняя, 1.357 финальная, ±0.881 стабильность, 105.9 кризисы\n",
            "  EVO         : -1.140 средняя, 1.659 финальная, ±0.850 стабильность, 105.9 кризисы\n",
            "  EVO_DGM     : -1.054 средняя, 1.780 финальная, ±0.873 стабильность, 105.9 кризисы\n",
            "\\n⚖️ КОРРЕКТНОСТЬ ЭКСПЕРИМЕНТА:\n",
            "   ✅ Единая среда и функция награды\n",
            "   ✅ Один сценарий кризисов (28 уникальных ДЕТЕРМИНИРОВАННО)\n",
            "   ✅ Фиксированный SEED: 42\n",
            "   ✅ Различия только в алгоритмах\n",
            "   ✅ Контролируемая сложность: Baseline(1.0x) < EVO(1.15x) < EVO_DGM(1.2x)\n",
            "   ✅ Валидация: PASSED\n",
            "   ✅ Детерминированная генерация кризисов: ГАРАНТИРОВАННО 28\n",
            "   ✅ Исправленные тензорные операции и размерности сетей\n",
            "\\n🎯 MADDPG ЭКСПЕРИМЕНТ ЗАВЕРШЕН!\n",
            "📝 Детальные логи в results/logs/\n",
            "\\n🎉 MADDPG ЭКСПЕРИМЕНТ УСПЕШНО ЗАВЕРШЕН!\n",
            "📊 Все результаты получены с единой функцией награды\n",
            "⚖️ Различия обусловлены только алгоритмическими улучшениями\n",
            "🔧 Детерминированно сгенерировано ровно 28 кризисов\n",
            "🛠️ Исправлены все тензорные операции и размерности сетей\n",
            "📋 Детальные данные в results/\n"
          ]
        }
      ]
    },
    {
      "cell_type": "code",
      "source": [
        "import time\n",
        "\n",
        "print(\"Введите '555', чтобы остановить пингование и позволить сброситься.\")\n",
        "while True:\n",
        "    user_input = input(\"Ожидание ввода... Введите 555 для остановки: \")\n",
        "    if user_input.strip() == \"555\":\n",
        "        print(\"Ввод 555 получен. Можно закрыть вкладку или дать сброситься.\")\n",
        "        break\n",
        "    else:\n",
        "        print(f\"Вы ввели: {user_input}. Продолжаю пинговать...\")\n",
        "        time.sleep(2)  # небольшая задержка, чтобы не перегружать ввод"
      ],
      "metadata": {
        "colab": {
          "base_uri": "https://localhost:8080/"
        },
        "id": "_JYsTF3Ag3Zv",
        "outputId": "88ea0d7c-c067-42fd-e1fb-f8e58547d553"
      },
      "execution_count": null,
      "outputs": [
        {
          "output_type": "stream",
          "name": "stdout",
          "text": [
            "Введите '555', чтобы остановить пингование и позволить сброситься.\n"
          ]
        }
      ]
    }
  ],
  "metadata": {
    "colab": {
      "provenance": [],
      "authorship_tag": "ABX9TyM/zNdBTAP8Klpgy7FYaDnf",
      "include_colab_link": true
    },
    "kernelspec": {
      "display_name": "Python 3",
      "name": "python3"
    },
    "language_info": {
      "name": "python"
    }
  },
  "nbformat": 4,
  "nbformat_minor": 0
}